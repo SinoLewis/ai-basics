{
 "cells": [
  {
   "cell_type": "code",
   "execution_count": 1,
   "id": "026b1202-b7c8-48d4-9b61-e2fa666b9266",
   "metadata": {},
   "outputs": [
    {
     "ename": "ValueError",
     "evalue": "The default Firebase app does not exist. Make sure to initialize the SDK by calling initialize_app().",
     "output_type": "error",
     "traceback": [
      "\u001b[0;31m---------------------------------------------------------------------------\u001b[0m",
      "\u001b[0;31mValueError\u001b[0m                                Traceback (most recent call last)",
      "Input \u001b[0;32mIn [1]\u001b[0m, in \u001b[0;36m<cell line: 10>\u001b[0;34m()\u001b[0m\n\u001b[1;32m      7\u001b[0m \u001b[38;5;28;01mfrom\u001b[39;00m \u001b[38;5;21;01mfirebase_admin\u001b[39;00m \u001b[38;5;28;01mimport\u001b[39;00m credentials\n\u001b[1;32m      8\u001b[0m \u001b[38;5;28;01mfrom\u001b[39;00m \u001b[38;5;21;01mfirebase_admin\u001b[39;00m \u001b[38;5;28;01mimport\u001b[39;00m firestore\n\u001b[0;32m---> 10\u001b[0m db \u001b[38;5;241m=\u001b[39m \u001b[43mfirestore\u001b[49m\u001b[38;5;241;43m.\u001b[39;49m\u001b[43mclient\u001b[49m\u001b[43m(\u001b[49m\u001b[43m)\u001b[49m\n",
      "File \u001b[0;32m~/Desktop/SnowCode/python/DataScience/Projects/MLCloud/lib/python3.9/site-packages/firebase_admin/firestore.py:53\u001b[0m, in \u001b[0;36mclient\u001b[0;34m(app)\u001b[0m\n\u001b[1;32m     37\u001b[0m \u001b[38;5;28;01mdef\u001b[39;00m \u001b[38;5;21mclient\u001b[39m(app\u001b[38;5;241m=\u001b[39m\u001b[38;5;28;01mNone\u001b[39;00m):\n\u001b[1;32m     38\u001b[0m     \u001b[38;5;124;03m\"\"\"Returns a client that can be used to interact with Google Cloud Firestore.\u001b[39;00m\n\u001b[1;32m     39\u001b[0m \n\u001b[1;32m     40\u001b[0m \u001b[38;5;124;03m    Args:\u001b[39;00m\n\u001b[0;32m   (...)\u001b[0m\n\u001b[1;32m     51\u001b[0m \u001b[38;5;124;03m          /firestore/client.html\u001b[39;00m\n\u001b[1;32m     52\u001b[0m \u001b[38;5;124;03m    \"\"\"\u001b[39;00m\n\u001b[0;32m---> 53\u001b[0m     fs_client \u001b[38;5;241m=\u001b[39m \u001b[43m_utils\u001b[49m\u001b[38;5;241;43m.\u001b[39;49m\u001b[43mget_app_service\u001b[49m\u001b[43m(\u001b[49m\u001b[43mapp\u001b[49m\u001b[43m,\u001b[49m\u001b[43m \u001b[49m\u001b[43m_FIRESTORE_ATTRIBUTE\u001b[49m\u001b[43m,\u001b[49m\u001b[43m \u001b[49m\u001b[43m_FirestoreClient\u001b[49m\u001b[38;5;241;43m.\u001b[39;49m\u001b[43mfrom_app\u001b[49m\u001b[43m)\u001b[49m\n\u001b[1;32m     54\u001b[0m     \u001b[38;5;28;01mreturn\u001b[39;00m fs_client\u001b[38;5;241m.\u001b[39mget()\n",
      "File \u001b[0;32m~/Desktop/SnowCode/python/DataScience/Projects/MLCloud/lib/python3.9/site-packages/firebase_admin/_utils.py:97\u001b[0m, in \u001b[0;36mget_app_service\u001b[0;34m(app, name, initializer)\u001b[0m\n\u001b[1;32m     96\u001b[0m \u001b[38;5;28;01mdef\u001b[39;00m \u001b[38;5;21mget_app_service\u001b[39m(app, name, initializer):\n\u001b[0;32m---> 97\u001b[0m     app \u001b[38;5;241m=\u001b[39m \u001b[43m_get_initialized_app\u001b[49m\u001b[43m(\u001b[49m\u001b[43mapp\u001b[49m\u001b[43m)\u001b[49m\n\u001b[1;32m     98\u001b[0m     \u001b[38;5;28;01mreturn\u001b[39;00m app\u001b[38;5;241m.\u001b[39m_get_service(name, initializer)\n",
      "File \u001b[0;32m~/Desktop/SnowCode/python/DataScience/Projects/MLCloud/lib/python3.9/site-packages/firebase_admin/_utils.py:82\u001b[0m, in \u001b[0;36m_get_initialized_app\u001b[0;34m(app)\u001b[0m\n\u001b[1;32m     80\u001b[0m \u001b[38;5;124;03m\"\"\"Returns a reference to an initialized App instance.\"\"\"\u001b[39;00m\n\u001b[1;32m     81\u001b[0m \u001b[38;5;28;01mif\u001b[39;00m app \u001b[38;5;129;01mis\u001b[39;00m \u001b[38;5;28;01mNone\u001b[39;00m:\n\u001b[0;32m---> 82\u001b[0m     \u001b[38;5;28;01mreturn\u001b[39;00m \u001b[43mfirebase_admin\u001b[49m\u001b[38;5;241;43m.\u001b[39;49m\u001b[43mget_app\u001b[49m\u001b[43m(\u001b[49m\u001b[43m)\u001b[49m\n\u001b[1;32m     84\u001b[0m \u001b[38;5;28;01mif\u001b[39;00m \u001b[38;5;28misinstance\u001b[39m(app, firebase_admin\u001b[38;5;241m.\u001b[39mApp):\n\u001b[1;32m     85\u001b[0m     initialized_app \u001b[38;5;241m=\u001b[39m firebase_admin\u001b[38;5;241m.\u001b[39mget_app(app\u001b[38;5;241m.\u001b[39mname)\n",
      "File \u001b[0;32m~/Desktop/SnowCode/python/DataScience/Projects/MLCloud/lib/python3.9/site-packages/firebase_admin/__init__.py:135\u001b[0m, in \u001b[0;36mget_app\u001b[0;34m(name)\u001b[0m\n\u001b[1;32m    132\u001b[0m         \u001b[38;5;28;01mreturn\u001b[39;00m _apps[name]\n\u001b[1;32m    134\u001b[0m \u001b[38;5;28;01mif\u001b[39;00m name \u001b[38;5;241m==\u001b[39m _DEFAULT_APP_NAME:\n\u001b[0;32m--> 135\u001b[0m     \u001b[38;5;28;01mraise\u001b[39;00m \u001b[38;5;167;01mValueError\u001b[39;00m(\n\u001b[1;32m    136\u001b[0m         \u001b[38;5;124m'\u001b[39m\u001b[38;5;124mThe default Firebase app does not exist. Make sure to initialize \u001b[39m\u001b[38;5;124m'\u001b[39m\n\u001b[1;32m    137\u001b[0m         \u001b[38;5;124m'\u001b[39m\u001b[38;5;124mthe SDK by calling initialize_app().\u001b[39m\u001b[38;5;124m'\u001b[39m)\n\u001b[1;32m    139\u001b[0m \u001b[38;5;28;01mraise\u001b[39;00m \u001b[38;5;167;01mValueError\u001b[39;00m(\n\u001b[1;32m    140\u001b[0m     (\u001b[38;5;124m'\u001b[39m\u001b[38;5;124mFirebase app named \u001b[39m\u001b[38;5;124m\"\u001b[39m\u001b[38;5;132;01m{0}\u001b[39;00m\u001b[38;5;124m\"\u001b[39m\u001b[38;5;124m does not exist. Make sure to initialize \u001b[39m\u001b[38;5;124m'\u001b[39m\n\u001b[1;32m    141\u001b[0m      \u001b[38;5;124m'\u001b[39m\u001b[38;5;124mthe SDK by calling initialize_app() with your app name as the \u001b[39m\u001b[38;5;124m'\u001b[39m\n\u001b[1;32m    142\u001b[0m      \u001b[38;5;124m'\u001b[39m\u001b[38;5;124msecond argument.\u001b[39m\u001b[38;5;124m'\u001b[39m)\u001b[38;5;241m.\u001b[39mformat(name))\n",
      "\u001b[0;31mValueError\u001b[0m: The default Firebase app does not exist. Make sure to initialize the SDK by calling initialize_app()."
     ]
    }
   ],
   "source": [
    "import numpy as np\n",
    "import pandas as pd\n",
    "from numpy.random import choice, randint\n",
    "import matplotlib.pyplot as plt\n",
    "\n",
    "import firebase_admin\n",
    "from firebase_admin import credentials\n",
    "from firebase_admin import firestore\n",
    "\n",
    "db = firestore.client()"
   ]
  },
  {
   "cell_type": "code",
   "execution_count": null,
   "id": "df654e54-5662-4e12-a25f-0f0a29135c1f",
   "metadata": {},
   "outputs": [],
   "source": [
    "devs = db.collection('developers')\n",
    "languages = {\n",
    "    u\"python\":50,\n",
    "    u\"node\":25,\n",
    "    u\"go\":10,\n",
    "    u\"c#\":-10,\n",
    "    u\"c++\":25,\n",
    "    u\"c\":50,\n",
    "}\n",
    "\n",
    "for i in range(200):\n",
    "    dev = {\n",
    "        \"firebase\": randint(0,2),\n",
    "        \"language\": choice(list(languages.keys())),\n",
    "        \"age\": randint(0,99),\n",
    "    }\n",
    "    \n",
    "    r = randint(-25, 25)\n",
    "    dev['happiness'] = r + languages[dev['language']] + (25 if dev['firebase'] else -25)\n",
    "    devs.add(dev)"
   ]
  },
  {
   "cell_type": "code",
   "execution_count": null,
   "id": "40a39ea3-76bc-4c13-a80b-dfa40c25434a",
   "metadata": {},
   "outputs": [],
   "source": [
    "docs = devs.get()\n",
    "data = []\n",
    "for doc in docs:\n",
    "    data.append(doc.to_dict())\n",
    "df = pd.DataFrame(data)\n",
    "df.to_csv('developers.csv', index=False)"
   ]
  },
  {
   "cell_type": "code",
   "execution_count": null,
   "id": "938b0fbc-afd6-4eff-8245-7de14a058391",
   "metadata": {},
   "outputs": [],
   "source": [
    "df = pd.read_csv(\"developers.csv\")\n",
    "df.sample(10)"
   ]
  },
  {
   "cell_type": "code",
   "execution_count": null,
   "id": "279e5023-3c96-4047-9725-6b2265c3a284",
   "metadata": {},
   "outputs": [],
   "source": [
    "df['happiness'].plot.hist()"
   ]
  },
  {
   "cell_type": "code",
   "execution_count": null,
   "id": "dd681f8e-8b25-4bec-b14a-359fb1127c87",
   "metadata": {},
   "outputs": [],
   "source": [
    "df.describe()"
   ]
  },
  {
   "cell_type": "code",
   "execution_count": null,
   "id": "7ed4e52d-a8ca-4a92-8955-1c109266de2b",
   "metadata": {},
   "outputs": [],
   "source": [
    "from sklearn.preprocessing import LabelEncoder\n",
    "\n",
    "le = LabelEncoder()\n",
    "df['language'] = le.fit_transform(df['language'])\n",
    "le.classes_"
   ]
  },
  {
   "cell_type": "code",
   "execution_count": null,
   "id": "c65c614b-b93c-47f9-8495-ae39b869df5a",
   "metadata": {},
   "outputs": [],
   "source": [
    "df.sample(10)"
   ]
  },
  {
   "cell_type": "code",
   "execution_count": null,
   "id": "16e56abf-6be8-4474-bef6-2ad5d776d8c0",
   "metadata": {},
   "outputs": [],
   "source": [
    "from sklearn.model_selection import train_test_split\n",
    "\n",
    "x = df.drop(labels='happiness', axis=1)\n",
    "y = df['happiness']\n",
    "\n",
    "X_train, X_test, y_train, y_test = train_test_split(x, y, test_size=0.33, random_state=23)\n",
    "X_train.tail()"
   ]
  },
  {
   "cell_type": "code",
   "execution_count": null,
   "id": "70468518-cb34-48d5-b44f-a0aeac185a15",
   "metadata": {},
   "outputs": [],
   "source": [
    "from sklearn.ensemble import RandomForestRegressor\n",
    "from sklearn.metrics import mean_absolute_error\n",
    "\n",
    "model = RandomForestRegressor(max_depth=3, random_state=23, n_estimators=500)\n",
    "model.fit(X_train, y_train)\n",
    "\n",
    "preds = model.predict(X_test)\n",
    "print(f\"Model Mean Absolute Error; MAE : {mean_absolute_error(y_test, preds)}\")"
   ]
  },
  {
   "cell_type": "code",
   "execution_count": null,
   "id": "deb47f2d-6d14-48d8-9c3b-abde84b0d331",
   "metadata": {},
   "outputs": [],
   "source": [
    "randos = randint(-100, high=100, size=len(y_test))\n",
    "print(f\"Random Prediction; MAE : {mean_absolute_error(y_test, randos)}\")"
   ]
  }
 ],
 "metadata": {
  "kernelspec": {
   "display_name": "Python 3 (ipykernel)",
   "language": "python",
   "name": "python3"
  },
  "language_info": {
   "codemirror_mode": {
    "name": "ipython",
    "version": 3
   },
   "file_extension": ".py",
   "mimetype": "text/x-python",
   "name": "python",
   "nbconvert_exporter": "python",
   "pygments_lexer": "ipython3",
   "version": "3.9.11"
  }
 },
 "nbformat": 4,
 "nbformat_minor": 5
}
