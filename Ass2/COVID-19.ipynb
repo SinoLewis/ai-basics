{
 "cells": [
  {
   "cell_type": "markdown",
   "id": "07855a45",
   "metadata": {},
   "source": [
    "## covid Dataset"
   ]
  },
  {
   "cell_type": "markdown",
   "id": "dddec454",
   "metadata": {},
   "source": [
    "## import libraries"
   ]
  },
  {
   "cell_type": "code",
   "execution_count": 46,
   "id": "98c5e5e4",
   "metadata": {},
   "outputs": [],
   "source": [
    "import pandas as pd\n",
    "import numpy as np\n",
    "\n",
    "# data visualization library \n",
    "import matplotlib\n",
    "import matplotlib.pyplot as plt\n",
    "import seaborn as sns"
   ]
  },
  {
   "cell_type": "markdown",
   "id": "daa5e02d",
   "metadata": {},
   "source": [
    "## load dataset"
   ]
  },
  {
   "cell_type": "code",
   "execution_count": 47,
   "id": "efcf762d",
   "metadata": {},
   "outputs": [],
   "source": [
    "covid=pd.read_csv('Covid Dataset.csv')"
   ]
  },
  {
   "cell_type": "code",
   "execution_count": 48,
   "id": "2a394f6a",
   "metadata": {},
   "outputs": [
    {
     "name": "stdout",
     "output_type": "stream",
     "text": [
      "     Breathing Problem Fever Dry Cough Sore throat Running Nose Asthma  \\\n",
      "0                  Yes   Yes       Yes         Yes          Yes     No   \n",
      "1                  Yes   Yes       Yes         Yes           No    Yes   \n",
      "2                  Yes   Yes       Yes         Yes          Yes    Yes   \n",
      "3                  Yes   Yes       Yes          No           No    Yes   \n",
      "4                  Yes   Yes       Yes         Yes          Yes     No   \n",
      "...                ...   ...       ...         ...          ...    ...   \n",
      "5429               Yes   Yes        No         Yes          Yes    Yes   \n",
      "5430               Yes   Yes       Yes          No          Yes    Yes   \n",
      "5431               Yes   Yes       Yes          No           No     No   \n",
      "5432               Yes   Yes       Yes          No          Yes     No   \n",
      "5433               Yes   Yes       Yes          No          Yes    Yes   \n",
      "\n",
      "     Chronic Lung Disease Headache Heart Disease Diabetes  ... Fatigue   \\\n",
      "0                      No       No            No      Yes  ...      Yes   \n",
      "1                     Yes      Yes            No       No  ...      Yes   \n",
      "2                     Yes      Yes            No      Yes  ...      Yes   \n",
      "3                      No       No           Yes      Yes  ...       No   \n",
      "4                     Yes      Yes           Yes      Yes  ...       No   \n",
      "...                   ...      ...           ...      ...  ...      ...   \n",
      "5429                  Yes       No            No       No  ...      Yes   \n",
      "5430                   No      Yes            No      Yes  ...      Yes   \n",
      "5431                   No       No           Yes       No  ...       No   \n",
      "5432                   No      Yes           Yes       No  ...       No   \n",
      "5433                   No      Yes            No      Yes  ...      Yes   \n",
      "\n",
      "     Gastrointestinal  Abroad travel Contact with COVID Patient  \\\n",
      "0                  Yes            No                        Yes   \n",
      "1                   No            No                         No   \n",
      "2                  Yes           Yes                         No   \n",
      "3                   No           Yes                         No   \n",
      "4                  Yes            No                        Yes   \n",
      "...                ...           ...                        ...   \n",
      "5429               Yes            No                         No   \n",
      "5430                No            No                         No   \n",
      "5431                No            No                         No   \n",
      "5432                No            No                         No   \n",
      "5433                No            No                         No   \n",
      "\n",
      "     Attended Large Gathering Visited Public Exposed Places  \\\n",
      "0                          No                           Yes   \n",
      "1                         Yes                           Yes   \n",
      "2                          No                            No   \n",
      "3                         Yes                           Yes   \n",
      "4                          No                           Yes   \n",
      "...                       ...                           ...   \n",
      "5429                       No                            No   \n",
      "5430                       No                            No   \n",
      "5431                       No                            No   \n",
      "5432                       No                            No   \n",
      "5433                       No                            No   \n",
      "\n",
      "     Family working in Public Exposed Places Wearing Masks  \\\n",
      "0                                        Yes            No   \n",
      "1                                         No            No   \n",
      "2                                         No            No   \n",
      "3                                         No            No   \n",
      "4                                         No            No   \n",
      "...                                      ...           ...   \n",
      "5429                                      No            No   \n",
      "5430                                      No            No   \n",
      "5431                                      No            No   \n",
      "5432                                      No            No   \n",
      "5433                                      No            No   \n",
      "\n",
      "     Sanitization from Market COVID-19  \n",
      "0                          No      Yes  \n",
      "1                          No      Yes  \n",
      "2                          No      Yes  \n",
      "3                          No      Yes  \n",
      "4                          No      Yes  \n",
      "...                       ...      ...  \n",
      "5429                       No      Yes  \n",
      "5430                       No      Yes  \n",
      "5431                       No       No  \n",
      "5432                       No       No  \n",
      "5433                       No       No  \n",
      "\n",
      "[5434 rows x 21 columns]\n"
     ]
    }
   ],
   "source": [
    "print(covid)"
   ]
  },
  {
   "cell_type": "code",
   "execution_count": 49,
   "id": "43e5e5c8",
   "metadata": {},
   "outputs": [
    {
     "name": "stdout",
     "output_type": "stream",
     "text": [
      "<class 'pandas.core.frame.DataFrame'>\n",
      "RangeIndex: 5434 entries, 0 to 5433\n",
      "Data columns (total 21 columns):\n",
      " #   Column                                   Non-Null Count  Dtype \n",
      "---  ------                                   --------------  ----- \n",
      " 0   Breathing Problem                        5434 non-null   object\n",
      " 1   Fever                                    5434 non-null   object\n",
      " 2   Dry Cough                                5434 non-null   object\n",
      " 3   Sore throat                              5434 non-null   object\n",
      " 4   Running Nose                             5434 non-null   object\n",
      " 5   Asthma                                   5434 non-null   object\n",
      " 6   Chronic Lung Disease                     5434 non-null   object\n",
      " 7   Headache                                 5434 non-null   object\n",
      " 8   Heart Disease                            5434 non-null   object\n",
      " 9   Diabetes                                 5434 non-null   object\n",
      " 10  Hyper Tension                            5434 non-null   object\n",
      " 11  Fatigue                                  5434 non-null   object\n",
      " 12  Gastrointestinal                         5434 non-null   object\n",
      " 13  Abroad travel                            5434 non-null   object\n",
      " 14  Contact with COVID Patient               5434 non-null   object\n",
      " 15  Attended Large Gathering                 5434 non-null   object\n",
      " 16  Visited Public Exposed Places            5434 non-null   object\n",
      " 17  Family working in Public Exposed Places  5434 non-null   object\n",
      " 18  Wearing Masks                            5434 non-null   object\n",
      " 19  Sanitization from Market                 5434 non-null   object\n",
      " 20  COVID-19                                 5434 non-null   object\n",
      "dtypes: object(21)\n",
      "memory usage: 891.6+ KB\n"
     ]
    }
   ],
   "source": [
    "covid.info()"
   ]
  },
  {
   "cell_type": "code",
   "execution_count": 50,
   "id": "68c9337e",
   "metadata": {},
   "outputs": [
    {
     "data": {
      "text/html": [
       "<div>\n",
       "<style scoped>\n",
       "    .dataframe tbody tr th:only-of-type {\n",
       "        vertical-align: middle;\n",
       "    }\n",
       "\n",
       "    .dataframe tbody tr th {\n",
       "        vertical-align: top;\n",
       "    }\n",
       "\n",
       "    .dataframe thead th {\n",
       "        text-align: right;\n",
       "    }\n",
       "</style>\n",
       "<table border=\"1\" class=\"dataframe\">\n",
       "  <thead>\n",
       "    <tr style=\"text-align: right;\">\n",
       "      <th></th>\n",
       "      <th>Breathing Problem</th>\n",
       "      <th>Fever</th>\n",
       "      <th>Dry Cough</th>\n",
       "      <th>Sore throat</th>\n",
       "      <th>Running Nose</th>\n",
       "      <th>Asthma</th>\n",
       "      <th>Chronic Lung Disease</th>\n",
       "      <th>Headache</th>\n",
       "      <th>Heart Disease</th>\n",
       "      <th>Diabetes</th>\n",
       "      <th>...</th>\n",
       "      <th>Fatigue</th>\n",
       "      <th>Gastrointestinal</th>\n",
       "      <th>Abroad travel</th>\n",
       "      <th>Contact with COVID Patient</th>\n",
       "      <th>Attended Large Gathering</th>\n",
       "      <th>Visited Public Exposed Places</th>\n",
       "      <th>Family working in Public Exposed Places</th>\n",
       "      <th>Wearing Masks</th>\n",
       "      <th>Sanitization from Market</th>\n",
       "      <th>COVID-19</th>\n",
       "    </tr>\n",
       "  </thead>\n",
       "  <tbody>\n",
       "    <tr>\n",
       "      <th>count</th>\n",
       "      <td>5434</td>\n",
       "      <td>5434</td>\n",
       "      <td>5434</td>\n",
       "      <td>5434</td>\n",
       "      <td>5434</td>\n",
       "      <td>5434</td>\n",
       "      <td>5434</td>\n",
       "      <td>5434</td>\n",
       "      <td>5434</td>\n",
       "      <td>5434</td>\n",
       "      <td>...</td>\n",
       "      <td>5434</td>\n",
       "      <td>5434</td>\n",
       "      <td>5434</td>\n",
       "      <td>5434</td>\n",
       "      <td>5434</td>\n",
       "      <td>5434</td>\n",
       "      <td>5434</td>\n",
       "      <td>5434</td>\n",
       "      <td>5434</td>\n",
       "      <td>5434</td>\n",
       "    </tr>\n",
       "    <tr>\n",
       "      <th>unique</th>\n",
       "      <td>2</td>\n",
       "      <td>2</td>\n",
       "      <td>2</td>\n",
       "      <td>2</td>\n",
       "      <td>2</td>\n",
       "      <td>2</td>\n",
       "      <td>2</td>\n",
       "      <td>2</td>\n",
       "      <td>2</td>\n",
       "      <td>2</td>\n",
       "      <td>...</td>\n",
       "      <td>2</td>\n",
       "      <td>2</td>\n",
       "      <td>2</td>\n",
       "      <td>2</td>\n",
       "      <td>2</td>\n",
       "      <td>2</td>\n",
       "      <td>2</td>\n",
       "      <td>1</td>\n",
       "      <td>1</td>\n",
       "      <td>2</td>\n",
       "    </tr>\n",
       "    <tr>\n",
       "      <th>top</th>\n",
       "      <td>Yes</td>\n",
       "      <td>Yes</td>\n",
       "      <td>Yes</td>\n",
       "      <td>Yes</td>\n",
       "      <td>Yes</td>\n",
       "      <td>No</td>\n",
       "      <td>No</td>\n",
       "      <td>Yes</td>\n",
       "      <td>No</td>\n",
       "      <td>No</td>\n",
       "      <td>...</td>\n",
       "      <td>Yes</td>\n",
       "      <td>No</td>\n",
       "      <td>No</td>\n",
       "      <td>Yes</td>\n",
       "      <td>No</td>\n",
       "      <td>Yes</td>\n",
       "      <td>No</td>\n",
       "      <td>No</td>\n",
       "      <td>No</td>\n",
       "      <td>Yes</td>\n",
       "    </tr>\n",
       "    <tr>\n",
       "      <th>freq</th>\n",
       "      <td>3620</td>\n",
       "      <td>4273</td>\n",
       "      <td>4307</td>\n",
       "      <td>3953</td>\n",
       "      <td>2952</td>\n",
       "      <td>2920</td>\n",
       "      <td>2869</td>\n",
       "      <td>2736</td>\n",
       "      <td>2911</td>\n",
       "      <td>2846</td>\n",
       "      <td>...</td>\n",
       "      <td>2821</td>\n",
       "      <td>2883</td>\n",
       "      <td>2983</td>\n",
       "      <td>2726</td>\n",
       "      <td>2924</td>\n",
       "      <td>2820</td>\n",
       "      <td>3172</td>\n",
       "      <td>5434</td>\n",
       "      <td>5434</td>\n",
       "      <td>4383</td>\n",
       "    </tr>\n",
       "  </tbody>\n",
       "</table>\n",
       "<p>4 rows × 21 columns</p>\n",
       "</div>"
      ],
      "text/plain": [
       "       Breathing Problem Fever Dry Cough Sore throat Running Nose Asthma  \\\n",
       "count               5434  5434      5434        5434         5434   5434   \n",
       "unique                 2     2         2           2            2      2   \n",
       "top                  Yes   Yes       Yes         Yes          Yes     No   \n",
       "freq                3620  4273      4307        3953         2952   2920   \n",
       "\n",
       "       Chronic Lung Disease Headache Heart Disease Diabetes  ... Fatigue   \\\n",
       "count                  5434     5434          5434     5434  ...     5434   \n",
       "unique                    2        2             2        2  ...        2   \n",
       "top                      No      Yes            No       No  ...      Yes   \n",
       "freq                   2869     2736          2911     2846  ...     2821   \n",
       "\n",
       "       Gastrointestinal  Abroad travel Contact with COVID Patient  \\\n",
       "count               5434          5434                       5434   \n",
       "unique                 2             2                          2   \n",
       "top                   No            No                        Yes   \n",
       "freq                2883          2983                       2726   \n",
       "\n",
       "       Attended Large Gathering Visited Public Exposed Places  \\\n",
       "count                      5434                          5434   \n",
       "unique                        2                             2   \n",
       "top                          No                           Yes   \n",
       "freq                       2924                          2820   \n",
       "\n",
       "       Family working in Public Exposed Places Wearing Masks  \\\n",
       "count                                     5434          5434   \n",
       "unique                                       2             1   \n",
       "top                                         No            No   \n",
       "freq                                      3172          5434   \n",
       "\n",
       "       Sanitization from Market COVID-19  \n",
       "count                      5434     5434  \n",
       "unique                        1        2  \n",
       "top                          No      Yes  \n",
       "freq                       5434     4383  \n",
       "\n",
       "[4 rows x 21 columns]"
      ]
     },
     "execution_count": 50,
     "metadata": {},
     "output_type": "execute_result"
    }
   ],
   "source": [
    "covid.describe()"
   ]
  },
  {
   "cell_type": "code",
   "execution_count": 51,
   "id": "9f18ae09",
   "metadata": {},
   "outputs": [
    {
     "data": {
      "text/plain": [
       "Index(['Breathing Problem', 'Fever', 'Dry Cough', 'Sore throat',\n",
       "       'Running Nose', 'Asthma', 'Chronic Lung Disease', 'Headache',\n",
       "       'Heart Disease', 'Diabetes', 'Hyper Tension', 'Fatigue ',\n",
       "       'Gastrointestinal ', 'Abroad travel', 'Contact with COVID Patient',\n",
       "       'Attended Large Gathering', 'Visited Public Exposed Places',\n",
       "       'Family working in Public Exposed Places', 'Wearing Masks',\n",
       "       'Sanitization from Market', 'COVID-19'],\n",
       "      dtype='object')"
      ]
     },
     "execution_count": 51,
     "metadata": {},
     "output_type": "execute_result"
    }
   ],
   "source": [
    "covid.columns"
   ]
  },
  {
   "cell_type": "code",
   "execution_count": 52,
   "id": "b91b28e5",
   "metadata": {},
   "outputs": [
    {
     "data": {
      "text/html": [
       "<div>\n",
       "<style scoped>\n",
       "    .dataframe tbody tr th:only-of-type {\n",
       "        vertical-align: middle;\n",
       "    }\n",
       "\n",
       "    .dataframe tbody tr th {\n",
       "        vertical-align: top;\n",
       "    }\n",
       "\n",
       "    .dataframe thead th {\n",
       "        text-align: right;\n",
       "    }\n",
       "</style>\n",
       "<table border=\"1\" class=\"dataframe\">\n",
       "  <thead>\n",
       "    <tr style=\"text-align: right;\">\n",
       "      <th></th>\n",
       "      <th>missing_values</th>\n",
       "      <th>percent_missing %</th>\n",
       "    </tr>\n",
       "  </thead>\n",
       "  <tbody>\n",
       "    <tr>\n",
       "      <th>Breathing Problem</th>\n",
       "      <td>0</td>\n",
       "      <td>0.0</td>\n",
       "    </tr>\n",
       "    <tr>\n",
       "      <th>Fever</th>\n",
       "      <td>0</td>\n",
       "      <td>0.0</td>\n",
       "    </tr>\n",
       "    <tr>\n",
       "      <th>Dry Cough</th>\n",
       "      <td>0</td>\n",
       "      <td>0.0</td>\n",
       "    </tr>\n",
       "    <tr>\n",
       "      <th>Sore throat</th>\n",
       "      <td>0</td>\n",
       "      <td>0.0</td>\n",
       "    </tr>\n",
       "    <tr>\n",
       "      <th>Running Nose</th>\n",
       "      <td>0</td>\n",
       "      <td>0.0</td>\n",
       "    </tr>\n",
       "    <tr>\n",
       "      <th>Asthma</th>\n",
       "      <td>0</td>\n",
       "      <td>0.0</td>\n",
       "    </tr>\n",
       "    <tr>\n",
       "      <th>Chronic Lung Disease</th>\n",
       "      <td>0</td>\n",
       "      <td>0.0</td>\n",
       "    </tr>\n",
       "    <tr>\n",
       "      <th>Headache</th>\n",
       "      <td>0</td>\n",
       "      <td>0.0</td>\n",
       "    </tr>\n",
       "    <tr>\n",
       "      <th>Heart Disease</th>\n",
       "      <td>0</td>\n",
       "      <td>0.0</td>\n",
       "    </tr>\n",
       "    <tr>\n",
       "      <th>Diabetes</th>\n",
       "      <td>0</td>\n",
       "      <td>0.0</td>\n",
       "    </tr>\n",
       "    <tr>\n",
       "      <th>Hyper Tension</th>\n",
       "      <td>0</td>\n",
       "      <td>0.0</td>\n",
       "    </tr>\n",
       "    <tr>\n",
       "      <th>Fatigue</th>\n",
       "      <td>0</td>\n",
       "      <td>0.0</td>\n",
       "    </tr>\n",
       "    <tr>\n",
       "      <th>Gastrointestinal</th>\n",
       "      <td>0</td>\n",
       "      <td>0.0</td>\n",
       "    </tr>\n",
       "    <tr>\n",
       "      <th>Abroad travel</th>\n",
       "      <td>0</td>\n",
       "      <td>0.0</td>\n",
       "    </tr>\n",
       "    <tr>\n",
       "      <th>Contact with COVID Patient</th>\n",
       "      <td>0</td>\n",
       "      <td>0.0</td>\n",
       "    </tr>\n",
       "    <tr>\n",
       "      <th>Attended Large Gathering</th>\n",
       "      <td>0</td>\n",
       "      <td>0.0</td>\n",
       "    </tr>\n",
       "    <tr>\n",
       "      <th>Visited Public Exposed Places</th>\n",
       "      <td>0</td>\n",
       "      <td>0.0</td>\n",
       "    </tr>\n",
       "    <tr>\n",
       "      <th>Family working in Public Exposed Places</th>\n",
       "      <td>0</td>\n",
       "      <td>0.0</td>\n",
       "    </tr>\n",
       "    <tr>\n",
       "      <th>Wearing Masks</th>\n",
       "      <td>0</td>\n",
       "      <td>0.0</td>\n",
       "    </tr>\n",
       "    <tr>\n",
       "      <th>Sanitization from Market</th>\n",
       "      <td>0</td>\n",
       "      <td>0.0</td>\n",
       "    </tr>\n",
       "    <tr>\n",
       "      <th>COVID-19</th>\n",
       "      <td>0</td>\n",
       "      <td>0.0</td>\n",
       "    </tr>\n",
       "  </tbody>\n",
       "</table>\n",
       "</div>"
      ],
      "text/plain": [
       "                                         missing_values   percent_missing %\n",
       "Breathing Problem                                      0                0.0\n",
       "Fever                                                  0                0.0\n",
       "Dry Cough                                              0                0.0\n",
       "Sore throat                                            0                0.0\n",
       "Running Nose                                           0                0.0\n",
       "Asthma                                                 0                0.0\n",
       "Chronic Lung Disease                                   0                0.0\n",
       "Headache                                               0                0.0\n",
       "Heart Disease                                          0                0.0\n",
       "Diabetes                                               0                0.0\n",
       "Hyper Tension                                          0                0.0\n",
       "Fatigue                                                0                0.0\n",
       "Gastrointestinal                                       0                0.0\n",
       "Abroad travel                                          0                0.0\n",
       "Contact with COVID Patient                             0                0.0\n",
       "Attended Large Gathering                               0                0.0\n",
       "Visited Public Exposed Places                          0                0.0\n",
       "Family working in Public Exposed Places                0                0.0\n",
       "Wearing Masks                                          0                0.0\n",
       "Sanitization from Market                               0                0.0\n",
       "COVID-19                                               0                0.0"
      ]
     },
     "execution_count": 52,
     "metadata": {},
     "output_type": "execute_result"
    }
   ],
   "source": [
    "# create a table with data missing \n",
    "missing_values=covid.isnull().sum() # missing values\n",
    "\n",
    "percent_missing = covid.isnull().sum()/covid.shape[0]*100 # missing value %\n",
    "\n",
    "value = {\n",
    "    'missing_values ':missing_values,\n",
    "    'percent_missing %':percent_missing  \n",
    "}\n",
    "frame=pd.DataFrame(value)\n",
    "frame"
   ]
  },
  {
   "cell_type": "markdown",
   "id": "83e83743",
   "metadata": {},
   "source": [
    "### DATA VISUALIZATION"
   ]
  },
  {
   "cell_type": "code",
   "execution_count": 53,
   "id": "adf6e653",
   "metadata": {},
   "outputs": [
    {
     "data": {
      "text/plain": [
       "<AxesSubplot:xlabel='COVID-19', ylabel='count'>"
      ]
     },
     "execution_count": 53,
     "metadata": {},
     "output_type": "execute_result"
    },
    {
     "data": {
      "image/png": "[encoded data removed]",
      "text/plain": [
       "<Figure size 432x288 with 1 Axes>"
      ]
     },
     "metadata": {
      "needs_background": "light"
     },
     "output_type": "display_data"
    }
   ],
   "source": [
    "sns.countplot(x='COVID-19',data=covid)"
   ]
  },
  {
   "cell_type": "code",
   "execution_count": 54,
   "id": "29dba6be",
   "metadata": {},
   "outputs": [
    {
     "data": {
      "image/png": "[encoded data removed]",
      "text/plain": [
       "<Figure size 432x288 with 1 Axes>"
      ]
     },
     "metadata": {},
     "output_type": "display_data"
    }
   ],
   "source": [
    "covid[\"COVID-19\"].value_counts().plot.pie(explode=[0.1,0.1],autopct='%1.1f%%',shadow=True)\n",
    "plt.title('number of cases');"
   ]
  },
  {
   "cell_type": "code",
   "execution_count": 55,
   "id": "f4414a29",
   "metadata": {},
   "outputs": [
    {
     "data": {
      "text/plain": [
       "<AxesSubplot:xlabel='Breathing Problem', ylabel='count'>"
      ]
     },
     "execution_count": 55,
     "metadata": {},
     "output_type": "execute_result"
    },
    {
     "data": {
      "image/png": "[encoded data removed]",
      "text/plain": [
       "<Figure size 432x288 with 1 Axes>"
      ]
     },
     "metadata": {
      "needs_background": "light"
     },
     "output_type": "display_data"
    }
   ],
   "source": [
    "sns.countplot(x='Breathing Problem',data=covid)"
   ]
  },
  {
   "cell_type": "markdown",
   "id": "b2eae7be",
   "metadata": {},
   "source": [
    "## FEVER"
   ]
  },
  {
   "cell_type": "code",
   "execution_count": 56,
   "id": "60573f78",
   "metadata": {},
   "outputs": [
    {
     "data": {
      "image/png": "[encoded data removed]",
      "text/plain": [
       "<Figure size 432x288 with 1 Axes>"
      ]
     },
     "metadata": {
      "needs_background": "light"
     },
     "output_type": "display_data"
    }
   ],
   "source": [
    "sns.countplot(x='Fever',hue='COVID-19',data=covid);"
   ]
  },
  {
   "cell_type": "markdown",
   "id": "d5a2ae1d",
   "metadata": {},
   "source": [
    "## DRY COUGH"
   ]
  },
  {
   "cell_type": "code",
   "execution_count": 57,
   "id": "5b2e466c",
   "metadata": {},
   "outputs": [
    {
     "data": {
      "text/plain": [
       "<AxesSubplot:xlabel='Dry Cough', ylabel='count'>"
      ]
     },
     "execution_count": 57,
     "metadata": {},
     "output_type": "execute_result"
    },
    {
     "data": {
      "image/png": "[encoded data removed]",
      "text/plain": [
       "<Figure size 432x288 with 1 Axes>"
      ]
     },
     "metadata": {
      "needs_background": "light"
     },
     "output_type": "display_data"
    }
   ],
   "source": [
    "sns.countplot(x='Dry Cough',hue='COVID-19',data=covid)"
   ]
  },
  {
   "cell_type": "markdown",
   "id": "3f1e6158",
   "metadata": {},
   "source": [
    "### SORE THROAT"
   ]
  },
  {
   "cell_type": "code",
   "execution_count": 58,
   "id": "ea3a31bc",
   "metadata": {},
   "outputs": [
    {
     "data": {
      "text/plain": [
       "<AxesSubplot:xlabel='Sore throat', ylabel='count'>"
      ]
     },
     "execution_count": 58,
     "metadata": {},
     "output_type": "execute_result"
    },
    {
     "data": {
      "image/png": "[encoded data removed]",
      "text/plain": [
       "<Figure size 432x288 with 1 Axes>"
      ]
     },
     "metadata": {
      "needs_background": "light"
     },
     "output_type": "display_data"
    }
   ],
   "source": [
    "sns.countplot(x='Sore throat',hue='COVID-19',data=covid)"
   ]
  },
  {
   "cell_type": "markdown",
   "id": "31793710",
   "metadata": {},
   "source": [
    "## FEATURE TRANSFORMATION"
   ]
  },
  {
   "cell_type": "code",
   "execution_count": 59,
   "id": "1cd0c5d2",
   "metadata": {},
   "outputs": [],
   "source": [
    "from sklearn.preprocessing import LabelEncoder\n",
    "e=LabelEncoder()"
   ]
  },
  {
   "cell_type": "code",
   "execution_count": 60,
   "id": "683a5a62",
   "metadata": {},
   "outputs": [],
   "source": [
    "covid['Breathing Problem']=e.fit_transform(covid['Breathing Problem'])\n",
    "covid['Fever']=e.fit_transform(covid['Fever'])\n",
    "covid['Dry Cough']=e.fit_transform(covid['Dry Cough'])\n",
    "covid['Sore throat']=e.fit_transform(covid['Sore throat'])\n",
    "covid['Running Nose']=e.fit_transform(covid['Running Nose'])\n",
    "covid['Asthma']=e.fit_transform(covid['Asthma'])\n",
    "covid['Chronic Lung Disease']=e.fit_transform(covid['Chronic Lung Disease'])\n",
    "covid['Headache']=e.fit_transform(covid['Headache'])\n",
    "covid['Heart Disease']=e.fit_transform(covid['Heart Disease'])\n",
    "covid['Diabetes']=e.fit_transform(covid['Diabetes'])\n",
    "covid['Hyper Tension']=e.fit_transform(covid['Hyper Tension'])\n",
    "covid['Abroad travel']=e.fit_transform(covid['Abroad travel'])\n",
    "covid['Contact with COVID Patient']=e.fit_transform(covid['Contact with COVID Patient'])\n",
    "covid['Attended Large Gathering']=e.fit_transform(covid['Attended Large Gathering'])\n",
    "covid['Visited Public Exposed Places']=e.fit_transform(covid['Visited Public Exposed Places'])\n",
    "covid['Family working in Public Exposed Places']=e.fit_transform(covid['Family working in Public Exposed Places'])\n",
    "covid['Wearing Masks']=e.fit_transform(covid['Wearing Masks'])\n",
    "covid['Sanitization from Market']=e.fit_transform(covid['Sanitization from Market'])\n",
    "covid['COVID-19']=e.fit_transform(covid['COVID-19'])\n",
    "covid['Dry Cough']=e.fit_transform(covid['Dry Cough'])\n",
    "covid['Sore throat']=e.fit_transform(covid['Sore throat'])\n",
    "covid['Gastrointestinal ']=e.fit_transform(covid['Gastrointestinal '])\n",
    "covid['Fatigue ']=e.fit_transform(covid['Fatigue '])"
   ]
  },
  {
   "cell_type": "code",
   "execution_count": 61,
   "id": "c656bd63",
   "metadata": {},
   "outputs": [
    {
     "name": "stdout",
     "output_type": "stream",
     "text": [
      "      Breathing Problem  Fever  Dry Cough  Sore throat  Running Nose  Asthma  \\\n",
      "0                     1      1          1            1             1       0   \n",
      "1                     1      1          1            1             0       1   \n",
      "2                     1      1          1            1             1       1   \n",
      "3                     1      1          1            0             0       1   \n",
      "4                     1      1          1            1             1       0   \n",
      "...                 ...    ...        ...          ...           ...     ...   \n",
      "5429                  1      1          0            1             1       1   \n",
      "5430                  1      1          1            0             1       1   \n",
      "5431                  1      1          1            0             0       0   \n",
      "5432                  1      1          1            0             1       0   \n",
      "5433                  1      1          1            0             1       1   \n",
      "\n",
      "      Chronic Lung Disease  Headache  Heart Disease  Diabetes  ...  Fatigue   \\\n",
      "0                        0         0              0         1  ...         1   \n",
      "1                        1         1              0         0  ...         1   \n",
      "2                        1         1              0         1  ...         1   \n",
      "3                        0         0              1         1  ...         0   \n",
      "4                        1         1              1         1  ...         0   \n",
      "...                    ...       ...            ...       ...  ...       ...   \n",
      "5429                     1         0              0         0  ...         1   \n",
      "5430                     0         1              0         1  ...         1   \n",
      "5431                     0         0              1         0  ...         0   \n",
      "5432                     0         1              1         0  ...         0   \n",
      "5433                     0         1              0         1  ...         1   \n",
      "\n",
      "      Gastrointestinal   Abroad travel  Contact with COVID Patient  \\\n",
      "0                     1              0                           1   \n",
      "1                     0              0                           0   \n",
      "2                     1              1                           0   \n",
      "3                     0              1                           0   \n",
      "4                     1              0                           1   \n",
      "...                 ...            ...                         ...   \n",
      "5429                  1              0                           0   \n",
      "5430                  0              0                           0   \n",
      "5431                  0              0                           0   \n",
      "5432                  0              0                           0   \n",
      "5433                  0              0                           0   \n",
      "\n",
      "      Attended Large Gathering  Visited Public Exposed Places  \\\n",
      "0                            0                              1   \n",
      "1                            1                              1   \n",
      "2                            0                              0   \n",
      "3                            1                              1   \n",
      "4                            0                              1   \n",
      "...                        ...                            ...   \n",
      "5429                         0                              0   \n",
      "5430                         0                              0   \n",
      "5431                         0                              0   \n",
      "5432                         0                              0   \n",
      "5433                         0                              0   \n",
      "\n",
      "      Family working in Public Exposed Places  Wearing Masks  \\\n",
      "0                                           1              0   \n",
      "1                                           0              0   \n",
      "2                                           0              0   \n",
      "3                                           0              0   \n",
      "4                                           0              0   \n",
      "...                                       ...            ...   \n",
      "5429                                        0              0   \n",
      "5430                                        0              0   \n",
      "5431                                        0              0   \n",
      "5432                                        0              0   \n",
      "5433                                        0              0   \n",
      "\n",
      "      Sanitization from Market  COVID-19  \n",
      "0                            0         1  \n",
      "1                            0         1  \n",
      "2                            0         1  \n",
      "3                            0         1  \n",
      "4                            0         1  \n",
      "...                        ...       ...  \n",
      "5429                         0         1  \n",
      "5430                         0         1  \n",
      "5431                         0         0  \n",
      "5432                         0         0  \n",
      "5433                         0         0  \n",
      "\n",
      "[5434 rows x 21 columns]\n"
     ]
    }
   ],
   "source": [
    "print(covid)"
   ]
  },
  {
   "cell_type": "code",
   "execution_count": 62,
   "id": "1f01e7d8",
   "metadata": {},
   "outputs": [
    {
     "data": {
      "text/plain": [
       "int32    19\n",
       "int64     2\n",
       "dtype: int64"
      ]
     },
     "execution_count": 62,
     "metadata": {},
     "output_type": "execute_result"
    }
   ],
   "source": [
    "covid.dtypes.value_counts()"
   ]
  },
  {
   "cell_type": "code",
   "execution_count": 63,
   "id": "0d044997",
   "metadata": {},
   "outputs": [
    {
     "data": {
      "text/html": [
       "<div>\n",
       "<style scoped>\n",
       "    .dataframe tbody tr th:only-of-type {\n",
       "        vertical-align: middle;\n",
       "    }\n",
       "\n",
       "    .dataframe tbody tr th {\n",
       "        vertical-align: top;\n",
       "    }\n",
       "\n",
       "    .dataframe thead th {\n",
       "        text-align: right;\n",
       "    }\n",
       "</style>\n",
       "<table border=\"1\" class=\"dataframe\">\n",
       "  <thead>\n",
       "    <tr style=\"text-align: right;\">\n",
       "      <th></th>\n",
       "      <th>Breathing Problem</th>\n",
       "      <th>Fever</th>\n",
       "      <th>Dry Cough</th>\n",
       "      <th>Sore throat</th>\n",
       "      <th>Running Nose</th>\n",
       "      <th>Asthma</th>\n",
       "      <th>Chronic Lung Disease</th>\n",
       "      <th>Headache</th>\n",
       "      <th>Heart Disease</th>\n",
       "      <th>Diabetes</th>\n",
       "      <th>...</th>\n",
       "      <th>Fatigue</th>\n",
       "      <th>Gastrointestinal</th>\n",
       "      <th>Abroad travel</th>\n",
       "      <th>Contact with COVID Patient</th>\n",
       "      <th>Attended Large Gathering</th>\n",
       "      <th>Visited Public Exposed Places</th>\n",
       "      <th>Family working in Public Exposed Places</th>\n",
       "      <th>Wearing Masks</th>\n",
       "      <th>Sanitization from Market</th>\n",
       "      <th>COVID-19</th>\n",
       "    </tr>\n",
       "  </thead>\n",
       "  <tbody>\n",
       "    <tr>\n",
       "      <th>count</th>\n",
       "      <td>5434.000000</td>\n",
       "      <td>5434.000000</td>\n",
       "      <td>5434.000000</td>\n",
       "      <td>5434.000000</td>\n",
       "      <td>5434.000000</td>\n",
       "      <td>5434.000000</td>\n",
       "      <td>5434.000000</td>\n",
       "      <td>5434.000000</td>\n",
       "      <td>5434.000000</td>\n",
       "      <td>5434.000000</td>\n",
       "      <td>...</td>\n",
       "      <td>5434.000000</td>\n",
       "      <td>5434.000000</td>\n",
       "      <td>5434.000000</td>\n",
       "      <td>5434.000000</td>\n",
       "      <td>5434.000000</td>\n",
       "      <td>5434.000000</td>\n",
       "      <td>5434.000000</td>\n",
       "      <td>5434.0</td>\n",
       "      <td>5434.0</td>\n",
       "      <td>5434.000000</td>\n",
       "    </tr>\n",
       "    <tr>\n",
       "      <th>mean</th>\n",
       "      <td>0.666176</td>\n",
       "      <td>0.786345</td>\n",
       "      <td>0.792602</td>\n",
       "      <td>0.727457</td>\n",
       "      <td>0.543246</td>\n",
       "      <td>0.462643</td>\n",
       "      <td>0.472028</td>\n",
       "      <td>0.503497</td>\n",
       "      <td>0.464299</td>\n",
       "      <td>0.476261</td>\n",
       "      <td>...</td>\n",
       "      <td>0.519139</td>\n",
       "      <td>0.469452</td>\n",
       "      <td>0.451049</td>\n",
       "      <td>0.501656</td>\n",
       "      <td>0.461907</td>\n",
       "      <td>0.518955</td>\n",
       "      <td>0.416268</td>\n",
       "      <td>0.0</td>\n",
       "      <td>0.0</td>\n",
       "      <td>0.806588</td>\n",
       "    </tr>\n",
       "    <tr>\n",
       "      <th>std</th>\n",
       "      <td>0.471621</td>\n",
       "      <td>0.409924</td>\n",
       "      <td>0.405480</td>\n",
       "      <td>0.445309</td>\n",
       "      <td>0.498172</td>\n",
       "      <td>0.498648</td>\n",
       "      <td>0.499263</td>\n",
       "      <td>0.500034</td>\n",
       "      <td>0.498770</td>\n",
       "      <td>0.499482</td>\n",
       "      <td>...</td>\n",
       "      <td>0.499680</td>\n",
       "      <td>0.499112</td>\n",
       "      <td>0.497644</td>\n",
       "      <td>0.500043</td>\n",
       "      <td>0.498593</td>\n",
       "      <td>0.499687</td>\n",
       "      <td>0.492984</td>\n",
       "      <td>0.0</td>\n",
       "      <td>0.0</td>\n",
       "      <td>0.395009</td>\n",
       "    </tr>\n",
       "    <tr>\n",
       "      <th>min</th>\n",
       "      <td>0.000000</td>\n",
       "      <td>0.000000</td>\n",
       "      <td>0.000000</td>\n",
       "      <td>0.000000</td>\n",
       "      <td>0.000000</td>\n",
       "      <td>0.000000</td>\n",
       "      <td>0.000000</td>\n",
       "      <td>0.000000</td>\n",
       "      <td>0.000000</td>\n",
       "      <td>0.000000</td>\n",
       "      <td>...</td>\n",
       "      <td>0.000000</td>\n",
       "      <td>0.000000</td>\n",
       "      <td>0.000000</td>\n",
       "      <td>0.000000</td>\n",
       "      <td>0.000000</td>\n",
       "      <td>0.000000</td>\n",
       "      <td>0.000000</td>\n",
       "      <td>0.0</td>\n",
       "      <td>0.0</td>\n",
       "      <td>0.000000</td>\n",
       "    </tr>\n",
       "    <tr>\n",
       "      <th>25%</th>\n",
       "      <td>0.000000</td>\n",
       "      <td>1.000000</td>\n",
       "      <td>1.000000</td>\n",
       "      <td>0.000000</td>\n",
       "      <td>0.000000</td>\n",
       "      <td>0.000000</td>\n",
       "      <td>0.000000</td>\n",
       "      <td>0.000000</td>\n",
       "      <td>0.000000</td>\n",
       "      <td>0.000000</td>\n",
       "      <td>...</td>\n",
       "      <td>0.000000</td>\n",
       "      <td>0.000000</td>\n",
       "      <td>0.000000</td>\n",
       "      <td>0.000000</td>\n",
       "      <td>0.000000</td>\n",
       "      <td>0.000000</td>\n",
       "      <td>0.000000</td>\n",
       "      <td>0.0</td>\n",
       "      <td>0.0</td>\n",
       "      <td>1.000000</td>\n",
       "    </tr>\n",
       "    <tr>\n",
       "      <th>50%</th>\n",
       "      <td>1.000000</td>\n",
       "      <td>1.000000</td>\n",
       "      <td>1.000000</td>\n",
       "      <td>1.000000</td>\n",
       "      <td>1.000000</td>\n",
       "      <td>0.000000</td>\n",
       "      <td>0.000000</td>\n",
       "      <td>1.000000</td>\n",
       "      <td>0.000000</td>\n",
       "      <td>0.000000</td>\n",
       "      <td>...</td>\n",
       "      <td>1.000000</td>\n",
       "      <td>0.000000</td>\n",
       "      <td>0.000000</td>\n",
       "      <td>1.000000</td>\n",
       "      <td>0.000000</td>\n",
       "      <td>1.000000</td>\n",
       "      <td>0.000000</td>\n",
       "      <td>0.0</td>\n",
       "      <td>0.0</td>\n",
       "      <td>1.000000</td>\n",
       "    </tr>\n",
       "    <tr>\n",
       "      <th>75%</th>\n",
       "      <td>1.000000</td>\n",
       "      <td>1.000000</td>\n",
       "      <td>1.000000</td>\n",
       "      <td>1.000000</td>\n",
       "      <td>1.000000</td>\n",
       "      <td>1.000000</td>\n",
       "      <td>1.000000</td>\n",
       "      <td>1.000000</td>\n",
       "      <td>1.000000</td>\n",
       "      <td>1.000000</td>\n",
       "      <td>...</td>\n",
       "      <td>1.000000</td>\n",
       "      <td>1.000000</td>\n",
       "      <td>1.000000</td>\n",
       "      <td>1.000000</td>\n",
       "      <td>1.000000</td>\n",
       "      <td>1.000000</td>\n",
       "      <td>1.000000</td>\n",
       "      <td>0.0</td>\n",
       "      <td>0.0</td>\n",
       "      <td>1.000000</td>\n",
       "    </tr>\n",
       "    <tr>\n",
       "      <th>max</th>\n",
       "      <td>1.000000</td>\n",
       "      <td>1.000000</td>\n",
       "      <td>1.000000</td>\n",
       "      <td>1.000000</td>\n",
       "      <td>1.000000</td>\n",
       "      <td>1.000000</td>\n",
       "      <td>1.000000</td>\n",
       "      <td>1.000000</td>\n",
       "      <td>1.000000</td>\n",
       "      <td>1.000000</td>\n",
       "      <td>...</td>\n",
       "      <td>1.000000</td>\n",
       "      <td>1.000000</td>\n",
       "      <td>1.000000</td>\n",
       "      <td>1.000000</td>\n",
       "      <td>1.000000</td>\n",
       "      <td>1.000000</td>\n",
       "      <td>1.000000</td>\n",
       "      <td>0.0</td>\n",
       "      <td>0.0</td>\n",
       "      <td>1.000000</td>\n",
       "    </tr>\n",
       "  </tbody>\n",
       "</table>\n",
       "<p>8 rows × 21 columns</p>\n",
       "</div>"
      ],
      "text/plain": [
       "       Breathing Problem        Fever    Dry Cough  Sore throat  Running Nose  \\\n",
       "count        5434.000000  5434.000000  5434.000000  5434.000000   5434.000000   \n",
       "mean            0.666176     0.786345     0.792602     0.727457      0.543246   \n",
       "std             0.471621     0.409924     0.405480     0.445309      0.498172   \n",
       "min             0.000000     0.000000     0.000000     0.000000      0.000000   \n",
       "25%             0.000000     1.000000     1.000000     0.000000      0.000000   \n",
       "50%             1.000000     1.000000     1.000000     1.000000      1.000000   \n",
       "75%             1.000000     1.000000     1.000000     1.000000      1.000000   \n",
       "max             1.000000     1.000000     1.000000     1.000000      1.000000   \n",
       "\n",
       "            Asthma  Chronic Lung Disease     Headache  Heart Disease  \\\n",
       "count  5434.000000           5434.000000  5434.000000    5434.000000   \n",
       "mean      0.462643              0.472028     0.503497       0.464299   \n",
       "std       0.498648              0.499263     0.500034       0.498770   \n",
       "min       0.000000              0.000000     0.000000       0.000000   \n",
       "25%       0.000000              0.000000     0.000000       0.000000   \n",
       "50%       0.000000              0.000000     1.000000       0.000000   \n",
       "75%       1.000000              1.000000     1.000000       1.000000   \n",
       "max       1.000000              1.000000     1.000000       1.000000   \n",
       "\n",
       "          Diabetes  ...     Fatigue   Gastrointestinal   Abroad travel  \\\n",
       "count  5434.000000  ...  5434.000000        5434.000000    5434.000000   \n",
       "mean      0.476261  ...     0.519139           0.469452       0.451049   \n",
       "std       0.499482  ...     0.499680           0.499112       0.497644   \n",
       "min       0.000000  ...     0.000000           0.000000       0.000000   \n",
       "25%       0.000000  ...     0.000000           0.000000       0.000000   \n",
       "50%       0.000000  ...     1.000000           0.000000       0.000000   \n",
       "75%       1.000000  ...     1.000000           1.000000       1.000000   \n",
       "max       1.000000  ...     1.000000           1.000000       1.000000   \n",
       "\n",
       "       Contact with COVID Patient  Attended Large Gathering  \\\n",
       "count                 5434.000000               5434.000000   \n",
       "mean                     0.501656                  0.461907   \n",
       "std                      0.500043                  0.498593   \n",
       "min                      0.000000                  0.000000   \n",
       "25%                      0.000000                  0.000000   \n",
       "50%                      1.000000                  0.000000   \n",
       "75%                      1.000000                  1.000000   \n",
       "max                      1.000000                  1.000000   \n",
       "\n",
       "       Visited Public Exposed Places  Family working in Public Exposed Places  \\\n",
       "count                    5434.000000                              5434.000000   \n",
       "mean                        0.518955                                 0.416268   \n",
       "std                         0.499687                                 0.492984   \n",
       "min                         0.000000                                 0.000000   \n",
       "25%                         0.000000                                 0.000000   \n",
       "50%                         1.000000                                 0.000000   \n",
       "75%                         1.000000                                 1.000000   \n",
       "max                         1.000000                                 1.000000   \n",
       "\n",
       "       Wearing Masks  Sanitization from Market     COVID-19  \n",
       "count         5434.0                    5434.0  5434.000000  \n",
       "mean             0.0                       0.0     0.806588  \n",
       "std              0.0                       0.0     0.395009  \n",
       "min              0.0                       0.0     0.000000  \n",
       "25%              0.0                       0.0     1.000000  \n",
       "50%              0.0                       0.0     1.000000  \n",
       "75%              0.0                       0.0     1.000000  \n",
       "max              0.0                       0.0     1.000000  \n",
       "\n",
       "[8 rows x 21 columns]"
      ]
     },
     "execution_count": 63,
     "metadata": {},
     "output_type": "execute_result"
    }
   ],
   "source": [
    "covid.describe(include='all')"
   ]
  },
  {
   "cell_type": "code",
   "execution_count": 64,
   "id": "2a19c831",
   "metadata": {},
   "outputs": [
    {
     "data": {
      "image/png": "[encoded data removed]",
      "text/plain": [
       "<Figure size 1440x1080 with 25 Axes>"
      ]
     },
     "metadata": {
      "needs_background": "light"
     },
     "output_type": "display_data"
    }
   ],
   "source": [
    "covid.hist(figsize=(20,15));"
   ]
  },
  {
   "cell_type": "markdown",
   "id": "a500e7f0",
   "metadata": {},
   "source": [
    "### feature selection"
   ]
  },
  {
   "cell_type": "code",
   "execution_count": 65,
   "id": "faddbf54",
   "metadata": {},
   "outputs": [],
   "source": [
    "covid=covid.drop('Running Nose',axis=1)\n",
    "covid=covid.drop('Chronic Lung Disease',axis=1)\n",
    "covid=covid.drop('Headache',axis=1)\n",
    "covid=covid.drop('Heart Disease',axis=1)\n",
    "covid=covid.drop('Diabetes',axis=1)\n",
    "covid=covid.drop('Gastrointestinal ',axis=1)\n",
    "covid=covid.drop('Wearing Masks',axis=1)\n",
    "covid=covid.drop('Sanitization from Market',axis=1)\n",
    "covid=covid.drop('Asthma',axis=1)"
   ]
  },
  {
   "cell_type": "markdown",
   "id": "698b1991",
   "metadata": {},
   "source": [
    "### ALGORITHMS "
   ]
  },
  {
   "cell_type": "code",
   "execution_count": 66,
   "id": "07b72cb7",
   "metadata": {},
   "outputs": [],
   "source": [
    "from sklearn.model_selection import train_test_split\n",
    "from sklearn import metrics\n",
    "from sklearn.metrics import accuracy_score"
   ]
  },
  {
   "cell_type": "markdown",
   "id": "3e570f43",
   "metadata": {},
   "source": [
    "### SPLIT DATA"
   ]
  },
  {
   "cell_type": "code",
   "execution_count": 67,
   "id": "759376bb",
   "metadata": {},
   "outputs": [],
   "source": [
    "x=covid.drop('COVID-19',axis=1)\n",
    "y=covid['COVID-19']"
   ]
  },
  {
   "cell_type": "code",
   "execution_count": 68,
   "id": "e0b10a04",
   "metadata": {},
   "outputs": [],
   "source": [
    "x_train, x_test, y_train, y_test = train_test_split(x, y, test_size = 0.20)"
   ]
  },
  {
   "cell_type": "code",
   "execution_count": 69,
   "id": "3ce668db",
   "metadata": {},
   "outputs": [
    {
     "data": {
      "text/plain": [
       "(4347, 11)"
      ]
     },
     "execution_count": 69,
     "metadata": {},
     "output_type": "execute_result"
    }
   ],
   "source": [
    "x_train.shape"
   ]
  },
  {
   "cell_type": "code",
   "execution_count": 70,
   "id": "6549bf97",
   "metadata": {},
   "outputs": [
    {
     "data": {
      "text/plain": [
       "(1087, 11)"
      ]
     },
     "execution_count": 70,
     "metadata": {},
     "output_type": "execute_result"
    }
   ],
   "source": [
    "x_test.shape"
   ]
  },
  {
   "cell_type": "code",
   "execution_count": 71,
   "id": "50e4ea2a",
   "metadata": {},
   "outputs": [
    {
     "data": {
      "text/plain": [
       "(4347,)"
      ]
     },
     "execution_count": 71,
     "metadata": {},
     "output_type": "execute_result"
    }
   ],
   "source": [
    "y_train.shape"
   ]
  },
  {
   "cell_type": "code",
   "execution_count": 72,
   "id": "5e417a1f",
   "metadata": {},
   "outputs": [
    {
     "data": {
      "text/plain": [
       "(1087,)"
      ]
     },
     "execution_count": 72,
     "metadata": {},
     "output_type": "execute_result"
    }
   ],
   "source": [
    "y_test.shape"
   ]
  },
  {
   "cell_type": "markdown",
   "id": "172651d3",
   "metadata": {},
   "source": [
    "## SUPPORT VECTOR MACHINE"
   ]
  },
  {
   "cell_type": "code",
   "execution_count": 73,
   "id": "3c3a71d8",
   "metadata": {},
   "outputs": [
    {
     "data": {
      "text/plain": [
       "96.59613615455382"
      ]
     },
     "execution_count": 73,
     "metadata": {},
     "output_type": "execute_result"
    }
   ],
   "source": [
    "#Import svm model\n",
    "from sklearn import svm\n",
    "#Create a svm Classifier\n",
    "clf = svm.SVC(kernel='linear') # Linear Kernel\n",
    "#Train the model using the training sets\n",
    "clf.fit(x_train, y_train)\n",
    "#Predict the response for test dataset\n",
    "y_pred = clf.predict(x_test)\n",
    "#Score/Accuracy\n",
    "acc_svc=clf.score(x_test, y_test)*100\n",
    "acc_svc"
   ]
  },
  {
   "cell_type": "markdown",
   "id": "eb42355b",
   "metadata": {},
   "source": [
    "## LOGISTIC REGRESSION"
   ]
  },
  {
   "cell_type": "code",
   "execution_count": 74,
   "id": "53ec9efc",
   "metadata": {},
   "outputs": [
    {
     "data": {
      "text/plain": [
       "95.95216191352345"
      ]
     },
     "execution_count": 74,
     "metadata": {},
     "output_type": "execute_result"
    }
   ],
   "source": [
    "from sklearn.linear_model import LogisticRegression\n",
    "regressor = LogisticRegression()\n",
    "#Fit the model\n",
    "regressor.fit(x_train, y_train)\n",
    "y_pred = regressor.predict(x_test)\n",
    "#Score/Accuracy\n",
    "acc_logreg=regressor.score(x_test, y_test)*100\n",
    "acc_logreg"
   ]
  },
  {
   "cell_type": "markdown",
   "id": "e2cd493e",
   "metadata": {},
   "source": [
    "### DECISION TREE"
   ]
  },
  {
   "cell_type": "code",
   "execution_count": 75,
   "id": "962246ac",
   "metadata": {},
   "outputs": [
    {
     "data": {
      "text/plain": [
       "97.42410303587856"
      ]
     },
     "execution_count": 75,
     "metadata": {},
     "output_type": "execute_result"
    }
   ],
   "source": [
    "from sklearn import tree\n",
    "t = tree.DecisionTreeClassifier()\n",
    "t.fit(x_train,y_train)\n",
    "y_pred = t.predict(x_test)\n",
    "#Score/Accuracy\n",
    "acc_decisiontree=t.score(x_test, y_test)*100\n",
    "acc_decisiontree"
   ]
  },
  {
   "cell_type": "markdown",
   "id": "c027e352",
   "metadata": {},
   "source": [
    "### RANDOM FOREST"
   ]
  },
  {
   "cell_type": "code",
   "execution_count": 76,
   "id": "458e8c64",
   "metadata": {},
   "outputs": [
    {
     "data": {
      "text/plain": [
       "90.0382554735985"
      ]
     },
     "execution_count": 76,
     "metadata": {},
     "output_type": "execute_result"
    }
   ],
   "source": [
    "#Train the model\n",
    "from sklearn.ensemble import RandomForestRegressor\n",
    "model = RandomForestRegressor(n_estimators=1000)\n",
    "#Fit\n",
    "model.fit(x_train, y_train)\n",
    "#Score/Accuracy\n",
    "acc_randomforest=model.score(x_test, y_test)*100\n",
    "acc_randomforest"
   ]
  },
  {
   "cell_type": "markdown",
   "id": "52118540",
   "metadata": {},
   "source": [
    "### NAIVE BAYES"
   ]
  },
  {
   "cell_type": "code",
   "execution_count": 77,
   "id": "bf33c64c",
   "metadata": {},
   "outputs": [
    {
     "data": {
      "text/plain": [
       "73.41306347746091"
      ]
     },
     "execution_count": 77,
     "metadata": {},
     "output_type": "execute_result"
    }
   ],
   "source": [
    "from sklearn.naive_bayes import GaussianNB\n",
    "model = GaussianNB()\n",
    "model.fit(x_train,y_train)\n",
    "#Score/Accuracy\n",
    "acc_gaussian= model.score(x_test, y_test)*100\n",
    "acc_gaussian"
   ]
  },
  {
   "cell_type": "code",
   "execution_count": 78,
   "id": "600cc271",
   "metadata": {},
   "outputs": [
    {
     "data": {
      "text/html": [
       "<div>\n",
       "<style scoped>\n",
       "    .dataframe tbody tr th:only-of-type {\n",
       "        vertical-align: middle;\n",
       "    }\n",
       "\n",
       "    .dataframe tbody tr th {\n",
       "        vertical-align: top;\n",
       "    }\n",
       "\n",
       "    .dataframe thead th {\n",
       "        text-align: right;\n",
       "    }\n",
       "</style>\n",
       "<table border=\"1\" class=\"dataframe\">\n",
       "  <thead>\n",
       "    <tr style=\"text-align: right;\">\n",
       "      <th></th>\n",
       "      <th>Model</th>\n",
       "      <th>Score</th>\n",
       "    </tr>\n",
       "  </thead>\n",
       "  <tbody>\n",
       "    <tr>\n",
       "      <th>4</th>\n",
       "      <td>Decision Tree</td>\n",
       "      <td>97.424103</td>\n",
       "    </tr>\n",
       "    <tr>\n",
       "      <th>0</th>\n",
       "      <td>Support Vector Machines</td>\n",
       "      <td>96.596136</td>\n",
       "    </tr>\n",
       "    <tr>\n",
       "      <th>1</th>\n",
       "      <td>Logistic Regression</td>\n",
       "      <td>95.952162</td>\n",
       "    </tr>\n",
       "    <tr>\n",
       "      <th>2</th>\n",
       "      <td>Random Forest</td>\n",
       "      <td>90.038255</td>\n",
       "    </tr>\n",
       "    <tr>\n",
       "      <th>3</th>\n",
       "      <td>Naive Bayes</td>\n",
       "      <td>73.413063</td>\n",
       "    </tr>\n",
       "  </tbody>\n",
       "</table>\n",
       "</div>"
      ],
      "text/plain": [
       "                     Model      Score\n",
       "4            Decision Tree  97.424103\n",
       "0  Support Vector Machines  96.596136\n",
       "1      Logistic Regression  95.952162\n",
       "2            Random Forest  90.038255\n",
       "3              Naive Bayes  73.413063"
      ]
     },
     "execution_count": 78,
     "metadata": {},
     "output_type": "execute_result"
    }
   ],
   "source": [
    "models = pd.DataFrame({\n",
    "    'Model': ['Support Vector Machines', 'Logistic Regression', \n",
    "              'Random Forest', 'Naive Bayes',   \n",
    "              'Decision Tree'],\n",
    "    'Score': [acc_svc, acc_logreg, \n",
    "              acc_randomforest, acc_gaussian, acc_decisiontree]})\n",
    "models.sort_values(by='Score', ascending=False)"
   ]
  },
  {
   "cell_type": "markdown",
   "id": "159181e4",
   "metadata": {},
   "source": [
    "## FINAL ALGORITHM "
   ]
  },
  {
   "cell_type": "code",
   "execution_count": 79,
   "id": "f08cf21e",
   "metadata": {},
   "outputs": [
    {
     "data": {
      "text/plain": [
       "LogisticRegression()"
      ]
     },
     "execution_count": 79,
     "metadata": {},
     "output_type": "execute_result"
    }
   ],
   "source": [
    "from sklearn.datasets import make_blobs\n",
    "from sklearn.linear_model import LogisticRegression\n",
    "x,y=make_blobs(n_samples=10000, n_features=11)\n",
    "\n",
    "#Fit the model\n",
    "regressor = LogisticRegression()\n",
    "regressor.fit(x_train, y_train)"
   ]
  },
  {
   "cell_type": "code",
   "execution_count": 80,
   "id": "78c6a846",
   "metadata": {},
   "outputs": [
    {
     "data": {
      "text/plain": [
       "95.95216191352345"
      ]
     },
     "execution_count": 80,
     "metadata": {},
     "output_type": "execute_result"
    }
   ],
   "source": [
    "y_pred = regressor.predict(x_test)\n",
    "acc_logreg=regressor.score(x_test, y_test)*100\n",
    "acc_logreg"
   ]
  },
  {
   "cell_type": "markdown",
   "id": "8c68ae32",
   "metadata": {},
   "source": [
    "## testing accuracy of trained model"
   ]
  },
  {
   "cell_type": "code",
   "execution_count": 81,
   "id": "a4f2097d",
   "metadata": {},
   "outputs": [
    {
     "data": {
      "text/plain": [
       "0.9595216191352346"
      ]
     },
     "execution_count": 81,
     "metadata": {},
     "output_type": "execute_result"
    }
   ],
   "source": [
    "#Evaluating the accuracy of the predictions made\n",
    "yhat = regressor.predict(x_test)\n",
    "acc = accuracy_score(y_test, yhat)\n",
    "acc"
   ]
  },
  {
   "cell_type": "markdown",
   "id": "13904054",
   "metadata": {},
   "source": [
    "### SINGLE PREDICTION"
   ]
  },
  {
   "cell_type": "code",
   "execution_count": 82,
   "id": "74c59773",
   "metadata": {},
   "outputs": [
    {
     "name": "stdout",
     "output_type": "stream",
     "text": [
      "[1]\n",
      "This person is Covid-19 Positive\n"
     ]
    }
   ],
   "source": [
    "input_data=(1,1,1,0,1,1,1,0,0,1,1)\n",
    "# changing the input_data to numpy array\n",
    "input_data_as_numpy_array= np.asarray(input_data)\n",
    "\n",
    "#reshape the array as we are predicting for one instance\n",
    "input_data_reshape = input_data_as_numpy_array.reshape(1,-1)\n",
    "\n",
    "pred=regressor.predict(input_data_reshape)\n",
    "print(pred)\n",
    "\n",
    "if(pred==0):\n",
    "    print(\"This person is Covid-19 Negative\")\n",
    "else:\n",
    "    print(\"This person is Covid-19 Positive\")\n",
    "    "
   ]
  },
  {
   "cell_type": "code",
   "execution_count": 83,
   "id": "b37814a2",
   "metadata": {},
   "outputs": [
    {
     "name": "stdout",
     "output_type": "stream",
     "text": [
      "[0]\n",
      "the person is Covid-19 Negative\n"
     ]
    }
   ],
   "source": [
    "input_data=(1,1,1,0,1,1,0,0,0,0,0)\n",
    "# changing the input_data to numpy array\n",
    "input_data_as_numpy_array= np.asarray(input_data)\n",
    "\n",
    "#reshape the array as we are predicting for one instance\n",
    "input_data_reshape = input_data_as_numpy_array.reshape(1,-1)\n",
    "\n",
    "pred=regressor.predict(input_data_reshape)\n",
    "print(pred)\n",
    "\n",
    "if(pred==0):\n",
    "    print(\"the person is Covid-19 Negative\")\n",
    "else:\n",
    "    print(\"the person is Covid-19 Positive\")"
   ]
  },
  {
   "cell_type": "markdown",
   "id": "a2aa3a65",
   "metadata": {},
   "source": [
    "### save"
   ]
  },
  {
   "cell_type": "code",
   "execution_count": 84,
   "id": "b4b5698d",
   "metadata": {},
   "outputs": [],
   "source": [
    "#Deployment module\n",
    "import pickle\n",
    "from joblib import dump"
   ]
  },
  {
   "cell_type": "code",
   "execution_count": 85,
   "id": "a439e930",
   "metadata": {},
   "outputs": [],
   "source": [
    "pickle.dump(regressor ,open('covid_pred_model.pkl','wb'))"
   ]
  },
  {
   "cell_type": "code",
   "execution_count": null,
   "id": "32a8cb17",
   "metadata": {},
   "outputs": [],
   "source": []
  }
 ],
 "metadata": {
  "kernelspec": {
   "display_name": "Python 3 (ipykernel)",
   "language": "python",
   "name": "python3"
  },
  "language_info": {
   "codemirror_mode": {
    "name": "ipython",
    "version": 3
   },
   "file_extension": ".py",
   "mimetype": "text/x-python",
   "name": "python",
   "nbconvert_exporter": "python",
   "pygments_lexer": "ipython3",
   "version": "3.10.5"
  }
 },
 "nbformat": 4,
 "nbformat_minor": 5
}
